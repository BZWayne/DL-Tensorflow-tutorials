{
 "cells": [
  {
   "cell_type": "code",
   "execution_count": 5,
   "metadata": {},
   "outputs": [
    {
     "name": "stdout",
     "output_type": "stream",
     "text": [
      "outs = 2.6363636363636362\n"
     ]
    }
   ],
   "source": [
    "#Example 3.1\n",
    "import tensorflow as tf\n",
    "\n",
    "a = tf.constant(5)\n",
    "b = tf.constant(4)\n",
    "c = tf.multiply(a, b) #sum 20\n",
    "d = tf.add(a,b)  #sum 9\n",
    "e = tf.subtract(c,d) #11\n",
    "f = tf.add(c,d) #29\n",
    "g = tf.divide(f, e) #29/11\n",
    "\n",
    "sess = tf.Session()\n",
    "outs = sess.run(g)\n",
    "sess.close()\n",
    "\n",
    "print(\"outs = {}\".format(outs))"
   ]
  },
  {
   "cell_type": "code",
   "execution_count": 10,
   "metadata": {},
   "outputs": [
    {
     "name": "stdout",
     "output_type": "stream",
     "text": [
      "answer = 4.095489978790283\n"
     ]
    }
   ],
   "source": [
    "#Example 3.2\n",
    "import tensorflow as tf\n",
    "\n",
    "a = tf.constant(2.4)\n",
    "b = tf.constant(3.5)\n",
    "c = tf.multiply(a, b) #8.4\n",
    "d = tf.sin(c, name='sin') #\n",
    "e = tf.divide(b, d) #28\n",
    "\n",
    "sess = tf.Session()\n",
    "ans = sess.run(e)\n",
    "sess.close()\n",
    "\n",
    "print(\"answer = {}\".format(ans))"
   ]
  },
  {
   "cell_type": "code",
   "execution_count": 5,
   "metadata": {},
   "outputs": [
    {
     "name": "stdout",
     "output_type": "stream",
     "text": [
      "<tensorflow.python.framework.ops.Graph object at 0xb35967438>\n"
     ]
    }
   ],
   "source": [
    "import tensorflow as tf\n",
    "print(tf.get_default_graph())\n",
    "\n",
    "g = tf.Graph()\n",
    "a = tf.constant(5)\n",
    "\n",
    "print(a.graph is g)\n",
    "print(a.graph is tf.get_default_graph())\n",
    "print(g)"
   ]
  },
  {
   "cell_type": "code",
   "execution_count": null,
   "metadata": {},
   "outputs": [],
   "source": []
  }
 ],
 "metadata": {
  "kernelspec": {
   "display_name": "Python 3",
   "language": "python",
   "name": "python3"
  },
  "language_info": {
   "codemirror_mode": {
    "name": "ipython",
    "version": 3
   },
   "file_extension": ".py",
   "mimetype": "text/x-python",
   "name": "python",
   "nbconvert_exporter": "python",
   "pygments_lexer": "ipython3",
   "version": "3.7.3"
  }
 },
 "nbformat": 4,
 "nbformat_minor": 2
}
